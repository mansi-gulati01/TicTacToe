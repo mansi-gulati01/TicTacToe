{
 "cells": [
  {
   "cell_type": "code",
   "execution_count": 1,
   "metadata": {},
   "outputs": [],
   "source": [
    "from IPython.display import clear_output\n"
   ]
  },
  {
   "cell_type": "code",
   "execution_count": 2,
   "metadata": {},
   "outputs": [],
   "source": [
    "def display_board(board):\n",
    "    clear_output()\n",
    "    print(board[7]+' |'+board[8]+'|'+board[9])\n",
    "    print('--|-|--')\n",
    "    print(board[4]+' |'+board[5]+'|'+board[6])\n",
    "    print('--|-|--')\n",
    "    print(board[1]+' |'+board[2]+'|'+board[3])"
   ]
  },
  {
   "cell_type": "code",
   "execution_count": null,
   "metadata": {},
   "outputs": [],
   "source": []
  },
  {
   "cell_type": "code",
   "execution_count": 3,
   "metadata": {},
   "outputs": [
    {
     "name": "stdout",
     "output_type": "stream",
     "text": [
      "$ |$|$\n",
      "--|-|--\n",
      "$ |$|$\n",
      "--|-|--\n",
      "$ |$|$\n"
     ]
    }
   ],
   "source": [
    "test_board=['$']*10\n",
    "display_board(test_board)"
   ]
  },
  {
   "cell_type": "code",
   "execution_count": 4,
   "metadata": {},
   "outputs": [],
   "source": [
    "def player_input():\n",
    "      marker=''\n",
    "      #keep asking player 1 to choose x or o\n",
    "      while marker!='x' and marker!='o':\n",
    "            marker=input('Player 1 choose x or o: ')\n",
    "  \n",
    "   \n",
    "            if marker=='x':\n",
    "            \n",
    "             return('x','o')\n",
    "       \n",
    "            else:\n",
    "                \n",
    "                return('o','x')\n",
    "    "
   ]
  },
  {
   "cell_type": "code",
   "execution_count": 5,
   "metadata": {},
   "outputs": [
    {
     "name": "stdout",
     "output_type": "stream",
     "text": [
      "Player 1 choose x or o: \n"
     ]
    }
   ],
   "source": [
    " player1_marker,palyer2_marker=player_input()"
   ]
  },
  {
   "cell_type": "code",
   "execution_count": 6,
   "metadata": {},
   "outputs": [],
   "source": [
    "def place_marker(board,marker,position):\n",
    "    board[position]=marker"
   ]
  },
  {
   "cell_type": "code",
   "execution_count": 7,
   "metadata": {},
   "outputs": [],
   "source": [
    "test_board=[' ']*10"
   ]
  },
  {
   "cell_type": "code",
   "execution_count": 8,
   "metadata": {},
   "outputs": [
    {
     "name": "stdout",
     "output_type": "stream",
     "text": [
      "  | | \n",
      "--|-|--\n",
      "  | | \n",
      "--|-|--\n",
      "  | |x\n"
     ]
    }
   ],
   "source": [
    "place_marker(test_board,'x',3)\n",
    "display_board(test_board)"
   ]
  },
  {
   "cell_type": "code",
   "execution_count": 9,
   "metadata": {},
   "outputs": [],
   "source": [
    "def win_check(board,mark):\n",
    "    #win tic tac toe\n",
    "    \n",
    "    #all rows\n",
    "    return((board[7] ==board[8]== board[9]==mark) or\n",
    "    (board[4] ==board[5]== board[6]==mark)or \n",
    "    (board[1] ==board[2]== board[3]==mark) or\n",
    "    #all columns\n",
    "    (board[7] ==board[4]==board[1]==mark)or\n",
    "    (board[8]==board[5]== board[2]==mark) or \n",
    "    (board[9]==board[6]==board[3]==mark) or\n",
    "    #2 diagnols\n",
    "     (board[7] ==board[5]== board[1]==mark) or\n",
    "    (board[9] ==board[5]== board[1]==mark ))\n",
    "     "
   ]
  },
  {
   "cell_type": "code",
   "execution_count": 10,
   "metadata": {},
   "outputs": [
    {
     "data": {
      "text/plain": [
       "False"
      ]
     },
     "execution_count": 10,
     "metadata": {},
     "output_type": "execute_result"
    }
   ],
   "source": [
    "win_check(test_board,'x')"
   ]
  },
  {
   "cell_type": "code",
   "execution_count": 11,
   "metadata": {},
   "outputs": [],
   "source": [
    "import random\n",
    "\n",
    "def choose_first():\n",
    "    flip=random.randint(0,1)\n",
    "    \n",
    "    if flip==0:\n",
    "        return 'player 1'\n",
    "    else:\n",
    "         return 'player2'"
   ]
  },
  {
   "cell_type": "code",
   "execution_count": 12,
   "metadata": {},
   "outputs": [],
   "source": [
    "def space_check(board,position):\n",
    "    \n",
    "    return board[position] == ' '"
   ]
  },
  {
   "cell_type": "code",
   "execution_count": 13,
   "metadata": {},
   "outputs": [],
   "source": [
    "def full_board_check(board):\n",
    "    for i in range(1,10):\n",
    "        if space_check(board,i):\n",
    "            return False\n",
    "        \n",
    "    return True"
   ]
  },
  {
   "cell_type": "code",
   "execution_count": 14,
   "metadata": {},
   "outputs": [],
   "source": [
    "def player_choice(board):\n",
    "    \n",
    "    position=0\n",
    "       \n",
    "    while position not in [1,2,3,4,5,6,7,8,9] or not  space_check(board,position):\n",
    "        position=int(input('choose a position: (1-9) '))\n",
    "                \n",
    "    return position"
   ]
  },
  {
   "cell_type": "code",
   "execution_count": 15,
   "metadata": {},
   "outputs": [],
   "source": [
    "def replay():\n",
    "    choice=input(\"play again? enter yes or no\")\n",
    "    \n",
    "    return choice =='yes'"
   ]
  },
  {
   "cell_type": "code",
   "execution_count": null,
   "metadata": {},
   "outputs": [
    {
     "name": "stdout",
     "output_type": "stream",
     "text": [
      "x |o|x\n",
      "--|-|--\n",
      "o |x|o\n",
      "--|-|--\n",
      "o |x|o\n",
      "Tie game\n"
     ]
    }
   ],
   "source": [
    "#while loop to keep playing the game\n",
    "print('Welcome to TiC Tac Toe!')\n",
    " \n",
    "while True:\n",
    "    \n",
    "    #play the game\n",
    "    \n",
    "    ##set everyhting(board,whos first,choose marker o,x)\n",
    "    the_board=[' ']*10\n",
    "    player1_marker,player2_marker=player_input()\n",
    "    \n",
    "    turn = choose_first()\n",
    "    print(turn+' will go first')\n",
    "    \n",
    "    play_game=input('Ready to play? y or n ?')\n",
    "    \n",
    "    if play_game=='y':\n",
    "        game_on =True\n",
    "    else:\n",
    "        game_on=False\n",
    "    \n",
    "    \n",
    "    ##game play\n",
    "    while game_on:\n",
    "        \n",
    "        if turn=='player1':\n",
    "            \n",
    "            #show the board\n",
    "            display_board(the_board)\n",
    "            #choose a position\n",
    "            position=player_choice(the_board)\n",
    "            #place the marker on position\n",
    "            place_marker(the_board,player1_marker,position)\n",
    "            \n",
    "            #check if they won\n",
    "            if win_check(the_board,player1_marker):\n",
    "                display_board(the_board)\n",
    "                print('Player 1 has won!!')\n",
    "                game_on=False\n",
    "            else:\n",
    "                if full_board_check(the_board):\n",
    "                    display_board(the_board)\n",
    "                    print('Tie game')\n",
    "                    game_on=False\n",
    "                else:\n",
    "                    turn='player2'\n",
    "                    \n",
    "    \n",
    "         \n",
    "        else:\n",
    "            #show the board\n",
    "            display_board(the_board)\n",
    "            #choose a position\n",
    "            position=player_choice(the_board)\n",
    "            #place the marker on position\n",
    "            place_marker(the_board,player2_marker,position)\n",
    "            #check if they won\n",
    "            if win_check(the_board,player2_marker):\n",
    "                display_board(the_board)\n",
    "                print('Player 2 has won!!')\n",
    "                game_on=False\n",
    "            else:\n",
    "                if full_board_check(the_board):\n",
    "                    display_board(the_board)\n",
    "                    print('Tie game')\n",
    "                    game_on=False\n",
    "                else:\n",
    "                    turn='player1'\n",
    "                    \n",
    "    if not replay():\n",
    "            break\n",
    "         \n",
    "    \n",
    "    "
   ]
  },
  {
   "cell_type": "code",
   "execution_count": null,
   "metadata": {},
   "outputs": [],
   "source": []
  }
 ],
 "metadata": {
  "kernelspec": {
   "display_name": "Python 3",
   "language": "python",
   "name": "python3"
  },
  "language_info": {
   "codemirror_mode": {
    "name": "ipython",
    "version": 3
   },
   "file_extension": ".py",
   "mimetype": "text/x-python",
   "name": "python",
   "nbconvert_exporter": "python",
   "pygments_lexer": "ipython3",
   "version": "3.7.6"
  }
 },
 "nbformat": 4,
 "nbformat_minor": 4
}
